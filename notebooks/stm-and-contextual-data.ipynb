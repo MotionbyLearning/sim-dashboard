{
 "cells": [
  {
   "cell_type": "code",
   "execution_count": null,
   "id": "068ef92c-980d-48fa-8b72-9ab202f15311",
   "metadata": {},
   "outputs": [],
   "source": [
    "import geopandas\n",
    "import geoviews as gv\n",
    "import holoviews as hv\n",
    "import hvplot.xarray\n",
    "import hvplot.pandas\n",
    "import panel as pn\n",
    "import stmtools\n",
    "import xarray as xr\n",
    "\n",
    "from dask.distributed import Client, LocalCluster\n",
    "from holoviews import opts\n",
    "from holoviews import streams"
   ]
  },
  {
   "cell_type": "code",
   "execution_count": null,
   "id": "60b08987-0a37-4adc-92b9-16de6eddc372",
   "metadata": {},
   "outputs": [],
   "source": [
    "# hv configurations\n",
    "hv.extension('bokeh')\n",
    "opts.defaults(opts.Points(tools=['box_select', 'lasso_select']))\n",
    "gv.output(dpi=120)"
   ]
  },
  {
   "cell_type": "markdown",
   "id": "ffaada64-f33f-42f9-abcb-5b14916eb302",
   "metadata": {},
   "source": [
    "# Visualize Space-Time Matrix (STM) & Contextual Data"
   ]
  },
  {
   "cell_type": "markdown",
   "id": "3935fe63-78cb-499a-baa3-7bb5912c56c0",
   "metadata": {},
   "source": [
    "## 1. Introduction\n",
    "\n",
    "The goal of this notebook is to build an interactive visualization of a space-time matrix (STM) dataset for data exploration. Specifically, we want to visualize results from radar interferometry measurements together with some space- and time-dependent contextual information.\n",
    "\n",
    "We make use of packages from the [HoloViz](https://holoviz.org) Python ecosystem, in particular [hvPlot](https://hvplot.holoviz.org), [HoloViews](https://holoviews.org) and [Panel](https://panel.holoviz.org).\n"
   ]
  },
  {
   "cell_type": "markdown",
   "id": "a055e969-1faa-4034-96fe-65ee58d7a9b8",
   "metadata": {},
   "source": [
    "## 2. Input variables and paths"
   ]
  },
  {
   "cell_type": "code",
   "execution_count": null,
   "id": "ca7bbb68-a93d-4396-8bcf-4ebced5fa839",
   "metadata": {},
   "outputs": [],
   "source": [
    "# input data paths\n",
    "DATA_DIR = '/project/caroline/Public/demo_mobyle/data'\n",
    "\n",
    "# Space-time matrix data\n",
    "DATA_STEM = 'full-pixel_psi_amsterdam_tsx_asc_t116_v4_ampl_std_H_c16643'\n",
    "CSV_STM_PATH = f'{DATA_DIR}/depsi_products/{DATA_STEM}.csv'\n",
    "ZARR_STM_PATH = f'{DATA_DIR}/depsi_products/{DATA_STEM}.zarr'\n",
    "\n",
    "# time-dependent variable: total precipitation\n",
    "TP_DATA_PATH = f'{DATA_DIR}/ERA5/ERA5-land-monthly_2015-2023_NL.nc'\n",
    "# space-dependent variable: BAG dataset for AMS\n",
    "BAG_DATA_PATH = f'{DATA_DIR}/BAG/bag_light_AMS_WGS84.gpkg'"
   ]
  },
  {
   "cell_type": "markdown",
   "id": "2249d356-809d-4846-8b29-ecea7973fae3",
   "metadata": {},
   "source": [
    "## 3. Setup Dask cluster\n",
    "\n",
    "NOTE: if the notebook is running inside a container, only the `LocalCluster` works (no `SLURMCluster`):"
   ]
  },
  {
   "cell_type": "code",
   "execution_count": null,
   "id": "c037ca19-2f5f-4caf-8aad-382304f95d9f",
   "metadata": {},
   "outputs": [],
   "source": [
    "cluster = LocalCluster(n_workers=1, threads_per_worker=4)\n",
    "client = Client(cluster)\n",
    "client"
   ]
  },
  {
   "cell_type": "markdown",
   "id": "b70b1dd5-be63-4d1f-85ab-b3da137f45f1",
   "metadata": {},
   "source": [
    "## 4. Convert STM data format: CSV -> Zarr\n",
    "\n",
    "We use the [STMTools](https://github.com/MotionbyLearning/stmtools/tree/main) package to load the STM dataset from a CSV file and convert it to the Zarr format. **This step needs to run only once!** Using a `LocalCluster` with 2 workers with 4 threads each on 8 cores on Spider, the following cell runs in ~6 min.  "
   ]
  },
  {
   "cell_type": "code",
   "execution_count": null,
   "id": "db5a1803-b27c-4ed7-bd9a-d2caada0432f",
   "metadata": {},
   "outputs": [],
   "source": [
    "! du -h $CSV_STM_PATH"
   ]
  },
  {
   "cell_type": "code",
   "execution_count": null,
   "id": "66d19a85-29b3-4643-b57c-aa9dd8700bdc",
   "metadata": {},
   "outputs": [],
   "source": [
    "# %%time\n",
    "# stm = stmtools.from_csv(CSV_STM_PATH)\n",
    "# stm.to_zarr(ZARR_STM_PATH, mode='w')"
   ]
  },
  {
   "cell_type": "markdown",
   "id": "f7d7e8b3-1887-4e17-8051-a571fad6ef62",
   "metadata": {},
   "source": [
    "## 5. STM and contextual data\n",
    "\n",
    "We consider three datasets:\n",
    "\n",
    "* The **STM** dataset, with space- and time-dependent variables (e.g. deformation);\n",
    "* ERA5-land monthly **total precipitation** data, of which we consider the only dependence on time;\n",
    "* **Building footprings** from the BAG dataset (space dependence only).\n",
    "\n",
    "In the following cells we open and manipulate the datasets:"
   ]
  },
  {
   "cell_type": "code",
   "execution_count": null,
   "id": "536e0a13-a608-48a3-8466-d8b999c48304",
   "metadata": {},
   "outputs": [],
   "source": [
    "# STM dataset, space-time dependent\n",
    "stm = xr.open_zarr(ZARR_STM_PATH)"
   ]
  },
  {
   "cell_type": "code",
   "execution_count": null,
   "id": "60b6e9d2-3413-41ce-b2ba-735be8c3aeaf",
   "metadata": {},
   "outputs": [],
   "source": [
    "# Total precipitation, (space-)time dependent\n",
    "ds = xr.open_dataset(TP_DATA_PATH)\n",
    "tp = ds['tp'].sel(\n",
    "    latitude=stm['lat'].mean(), \n",
    "    longitude=stm['lon'].mean(),\n",
    "    expver=1,\n",
    "    method='nearest',\n",
    ")"
   ]
  },
  {
   "cell_type": "code",
   "execution_count": null,
   "id": "55f82151-f057-41e0-910a-5937dddca3a3",
   "metadata": {},
   "outputs": [],
   "source": [
    "# BAG dataset, space dependent\n",
    "bbox = (4.88, 52.36, 4.92, 52.38) \n",
    "bag = geopandas.read_file(BAG_DATA_PATH, bbox=bbox)"
   ]
  },
  {
   "cell_type": "markdown",
   "id": "e26ad9e2-7e69-44eb-9aba-63b498837ef8",
   "metadata": {},
   "source": [
    "## 4. Visualizing the datasets"
   ]
  },
  {
   "cell_type": "markdown",
   "id": "fb526813-70e6-417c-a07f-35b32d613ae4",
   "metadata": {},
   "source": [
    "We create a scatter plot on a base map for the STM data points:"
   ]
  },
  {
   "cell_type": "code",
   "execution_count": null,
   "id": "f37b146a-7121-4313-974e-1bf6c0d530d9",
   "metadata": {},
   "outputs": [],
   "source": [
    "# create points plot\n",
    "xy = stm[['lat', 'lon', 'pnt_linear']].to_dataframe()\n",
    "xy = xy.sample(frac=0.2)  # randomly select 20% of the points\n",
    "points = xy.hvplot.points(\n",
    "    'lon', \n",
    "    'lat', \n",
    "    geo=True, \n",
    "    c='red',\n",
    "    size=5,\n",
    "    tiles='ESRI',\n",
    "    hover=False,\n",
    ")"
   ]
  },
  {
   "cell_type": "code",
   "execution_count": null,
   "id": "6748e4ed-2960-483c-881c-edb0788dbad3",
   "metadata": {},
   "outputs": [],
   "source": [
    "points = points.opts(frame_width=500, frame_height=500)\n",
    "points"
   ]
  },
  {
   "cell_type": "markdown",
   "id": "e47959b8-941b-481d-89e1-d28396568a10",
   "metadata": {},
   "source": [
    "Let's add some information and color the points using the slope of the line fitting the points:"
   ]
  },
  {
   "cell_type": "code",
   "execution_count": null,
   "id": "af2077f6-2545-4f78-8bd0-ec9939e2bc1e",
   "metadata": {},
   "outputs": [],
   "source": [
    "# create points plot\n",
    "xy = stm[['lat', 'lon', 'pnt_linear']].to_dataframe()\n",
    "xy = xy.sample(frac=0.2)\n",
    "points = xy.hvplot.points(\n",
    "    'lon', \n",
    "    'lat', \n",
    "    geo=True, \n",
    "    c='pnt_linear',\n",
    "    clim=(-5e-3, 5e-3),\n",
    "    cmap='jet_r',\n",
    "    size=5,\n",
    "    tiles='ESRI',\n",
    "    hover=False,\n",
    ")"
   ]
  },
  {
   "cell_type": "code",
   "execution_count": null,
   "id": "127e4618-e08c-43d0-8d57-ef924135e536",
   "metadata": {},
   "outputs": [],
   "source": [
    "points = points.opts(frame_width=500, frame_height=500)\n",
    "points"
   ]
  },
  {
   "cell_type": "markdown",
   "id": "00e5b69d-8007-444d-8f9d-64b3c2f8efbb",
   "metadata": {},
   "source": [
    "Let's add a separate panel to visualize the deformation associated to each point as a function of time. Let's add a selection stream so that the only points selected in the previous panel will be considered!"
   ]
  },
  {
   "cell_type": "code",
   "execution_count": null,
   "id": "2a5e2fcd-0ea0-47ac-876f-0d8e912bf291",
   "metadata": {},
   "outputs": [],
   "source": [
    "TOO_MANY_POINTS = 10\n",
    "VARIABLE = 'deformation'\n",
    "\n",
    "# create stream for a selection of points\n",
    "selection = streams.Selection1D(source=points)\n",
    "\n",
    "def plot_variable(index):\n",
    "    \"\"\" Plot STM variable vs time for a sub-set of points. \"\"\"\n",
    "    if not index or len(index) > TOO_MANY_POINTS:\n",
    "        # for no or too many points, plot point 0\n",
    "        return plot_variable([0])\n",
    "    else:\n",
    "        lines = [\n",
    "            stm.isel(space=i).hvplot(x='time', y=VARIABLE)\n",
    "            for i in index\n",
    "        ]\n",
    "        return hv.Overlay(lines)\n",
    "\n",
    "# create interactive variable plot\n",
    "deformation = hv.DynamicMap(plot_variable, streams=[selection])"
   ]
  },
  {
   "cell_type": "code",
   "execution_count": null,
   "id": "8b253db3-30d3-4392-8b98-366e3cf7c201",
   "metadata": {},
   "outputs": [],
   "source": [
    "deformation = deformation.opts(frame_width=500)\n",
    "(points + deformation).cols(1)"
   ]
  },
  {
   "cell_type": "markdown",
   "id": "ec44b26a-7167-4603-a058-2145ba247840",
   "metadata": {},
   "source": [
    "Let's add two more panels to the plot to visualize the contextual data. In a new panel, we plot the total precipitation as a function of time:"
   ]
  },
  {
   "cell_type": "code",
   "execution_count": null,
   "id": "29588891-c09a-4299-a9e6-12dc8f0ac8b8",
   "metadata": {},
   "outputs": [],
   "source": [
    "precipitation = tp.hvplot.line(x='time', y='tp')"
   ]
  },
  {
   "cell_type": "markdown",
   "id": "205a9703-0c9e-4631-99b6-a8f75e55d26e",
   "metadata": {},
   "source": [
    "Finally, the last panel will show the building footprints. We'll color these using the year of construction:"
   ]
  },
  {
   "cell_type": "code",
   "execution_count": null,
   "id": "f0ff143b-5f51-4e14-b933-52335c950757",
   "metadata": {},
   "outputs": [],
   "source": [
    "buildings = gv.Polygons(bag, vdims=[('bouwjaar', 'Year Built')])"
   ]
  },
  {
   "cell_type": "markdown",
   "id": "33f5040e-1571-4b6b-ac95-ed85c338948b",
   "metadata": {},
   "source": [
    "We compose the final layout:"
   ]
  },
  {
   "cell_type": "code",
   "execution_count": null,
   "id": "5bacd6ce-0e4d-4b64-b19d-fb82caff500b",
   "metadata": {},
   "outputs": [],
   "source": [
    "buildings = buildings.opts(frame_width=500, frame_height=500, tools=['hover'])\n",
    "precipitation = precipitation.opts(frame_width=500)\n",
    "\n",
    "plot = (points + buildings + deformation + precipitation).cols(2)\n",
    "plot"
   ]
  },
  {
   "cell_type": "markdown",
   "id": "c0cee011-2756-4f39-95d9-62c8ef18b122",
   "metadata": {},
   "source": [
    "You can also run the visualization with a dedicated Panel server:"
   ]
  },
  {
   "cell_type": "code",
   "execution_count": null,
   "id": "321624fe-e058-43d7-898e-b6519498fbb6",
   "metadata": {},
   "outputs": [],
   "source": [
    "server = pn.serve(plot, port=5006)"
   ]
  }
 ],
 "metadata": {
  "kernelspec": {
   "display_name": "Python 3 (ipykernel)",
   "language": "python",
   "name": "python3"
  },
  "language_info": {
   "codemirror_mode": {
    "name": "ipython",
    "version": 3
   },
   "file_extension": ".py",
   "mimetype": "text/x-python",
   "name": "python",
   "nbconvert_exporter": "python",
   "pygments_lexer": "ipython3",
   "version": "3.11.6"
  }
 },
 "nbformat": 4,
 "nbformat_minor": 5
}
